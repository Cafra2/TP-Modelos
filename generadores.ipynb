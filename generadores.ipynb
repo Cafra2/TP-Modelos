{
 "cells": [
  {
   "cell_type": "code",
   "execution_count": 2,
   "id": "fd41a9bd",
   "metadata": {},
   "outputs": [],
   "source": [
    "import random"
   ]
  },
  {
   "cell_type": "code",
   "execution_count": 3,
   "id": "1dccd199",
   "metadata": {},
   "outputs": [],
   "source": [
    "# Generadores\n",
    "def LCG():\n",
    "    \"\"\"\n",
    "    Generador de números pseudoaleatorios usando el método del generador lineal congruencial (LCG).\n",
    "    \"\"\"\n",
    "    a = 16807\n",
    "    c = 0\n",
    "    m = (2**31) - 1\n",
    "    seed = 0  # Valor inicial\n",
    "\n",
    "    while True:\n",
    "        seed = (a * seed + c) % m\n",
    "        yield seed / m  # Normalizar a [0, 1)"
   ]
  },
  {
   "cell_type": "code",
   "execution_count": 4,
   "id": "2bd97127",
   "metadata": {},
   "outputs": [],
   "source": [
    "def MersenneTwister():\n",
    "    \"\"\"\n",
    "    Generador de números pseudoaleatorios usando el algoritmo Mersenne Twister.\n",
    "    \"\"\"\n",
    "    random.seed()  # Inicializa con una semilla basada en el tiempo actual\n",
    "    while True:\n",
    "        yield random.random()  # Devuelve un número aleatorio en [0, 1)"
   ]
  },
  {
   "cell_type": "code",
   "execution_count": 5,
   "id": "8ce5fb11",
   "metadata": {},
   "outputs": [],
   "source": [
    "def XORShift():\n",
    "    \"\"\"\n",
    "    Generador de números pseudoaleatorios usando el método XORShift.\n",
    "    \"\"\"\n",
    "    seed = 123456789  # Valor inicial\n",
    "    while True:\n",
    "        seed ^= (seed << 13) & 0xFFFFFFFF\n",
    "        seed ^= (seed >> 17) & 0xFFFFFFFF\n",
    "        seed ^= (seed << 5) & 0xFFFFFFFF\n",
    "        yield seed / 0xFFFFFFFF  # Normalizar a [0, 1)"
   ]
  },
  {
   "cell_type": "code",
   "execution_count": null,
   "id": "aac0f201",
   "metadata": {},
   "outputs": [],
   "source": []
  }
 ],
 "metadata": {
  "kernelspec": {
   "display_name": "tp-modelos",
   "language": "python",
   "name": "python3"
  },
  "language_info": {
   "codemirror_mode": {
    "name": "ipython",
    "version": 3
   },
   "file_extension": ".py",
   "mimetype": "text/x-python",
   "name": "python",
   "nbconvert_exporter": "python",
   "pygments_lexer": "ipython3",
   "version": "3.13.3"
  }
 },
 "nbformat": 4,
 "nbformat_minor": 5
}
